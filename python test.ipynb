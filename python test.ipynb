{
 "cells": [
  {
   "cell_type": "markdown",
   "metadata": {},
   "source": [
    "# PYTHON TEST"
   ]
  },
  {
   "cell_type": "code",
   "execution_count": 14,
   "metadata": {},
   "outputs": [
    {
     "ename": "SyntaxError",
     "evalue": "invalid syntax (<ipython-input-14-2f9acab63b21>, line 3)",
     "output_type": "error",
     "traceback": [
      "\u001b[1;36m  File \u001b[1;32m\"<ipython-input-14-2f9acab63b21>\"\u001b[1;36m, line \u001b[1;32m3\u001b[0m\n\u001b[1;33m    def number(\"\")\u001b[0m\n\u001b[1;37m      ^\u001b[0m\n\u001b[1;31mSyntaxError\u001b[0m\u001b[1;31m:\u001b[0m invalid syntax\n"
     ]
    }
   ],
   "source": [
    "### CREAT A FUNCTION TO VALIDATE A PHONE NUMBER USING REGULAR EXPRESSION\n",
    "n = int(input(\"enter a number\")\n",
    "def number(\"\")\n",
    "        print(\"enter a phone number\")\n",
    "        "
   ]
  },
  {
   "cell_type": "code",
   "execution_count": 6,
   "metadata": {},
   "outputs": [
    {
     "name": "stdout",
     "output_type": "stream",
     "text": [
      "Enter any Number: 59\n",
      "The Last Digit in a Given Number 59 = 9\n"
     ]
    }
   ],
   "source": [
    "### CREAT A FUNCTON TO FIND THE FIRST AND LAST DIGIT OF A NUMBER \n",
    "def lastDigit(num):\n",
    "    return num % 10\n",
    "\n",
    "n= int(input(\"Enter any Number: \"))\n",
    "\n",
    "last_digit=lastDigit(number)\n",
    "\n",
    "print(\"The Last Digit in a Given Number %d = %d\" %(number, last_digit))"
   ]
  },
  {
   "cell_type": "code",
   "execution_count": 17,
   "metadata": {},
   "outputs": [
    {
     "name": "stdout",
     "output_type": "stream",
     "text": [
      "enter a number99\n",
      "the first digit in a given number 59 = 9\n"
     ]
    }
   ],
   "source": [
    "def firstDigit(num):\n",
    "    return num % 10\n",
    "n = int(input(\"enter a number\"))\n",
    "first_digit = firstDigit(number)\n",
    "print(\"the first digit in a given number %d = %d\" %(number,first_digit))"
   ]
  },
  {
   "cell_type": "code",
   "execution_count": null,
   "metadata": {},
   "outputs": [],
   "source": []
  }
 ],
 "metadata": {
  "kernelspec": {
   "display_name": "Python 3",
   "language": "python",
   "name": "python3"
  },
  "language_info": {
   "codemirror_mode": {
    "name": "ipython",
    "version": 3
   },
   "file_extension": ".py",
   "mimetype": "text/x-python",
   "name": "python",
   "nbconvert_exporter": "python",
   "pygments_lexer": "ipython3",
   "version": "3.7.3"
  }
 },
 "nbformat": 4,
 "nbformat_minor": 2
}
